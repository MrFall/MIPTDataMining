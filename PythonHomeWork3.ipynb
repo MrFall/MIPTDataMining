{
 "cells": [
  {
   "cell_type": "code",
   "execution_count": null,
   "metadata": {
    "collapsed": true
   },
   "outputs": [],
   "source": [
    "def Qsort (arr):\n",
    "\tm_1 = []\n",
    "\tm_2 = []\n",
    "\tm_3 = []\n",
    "\tif len(arr) > 1:\n",
    "\t\tpivot = arr[0]\n",
    "\t\tfor i in arr:\n",
    "\t\t\tif i < pivot:\n",
    "\t\t\t\tm_1.append(i)\n",
    "\t\t\telif i == pivot:\n",
    "\t\t\t\tm_2.append(i)\n",
    "\t\t\telif i > pivot:\n",
    "\t\t\t\tm_3.append(i)\n",
    "\t\treturn Qsort(m_1)+ m_2 + Qsort(m_3)\n",
    "\telse:\n",
    "\t\treturn arr"
   ]
  }
 ],
 "metadata": {
  "anaconda-cloud": {},
  "kernelspec": {
   "display_name": "Python [default]",
   "language": "python",
   "name": "python2"
  },
  "language_info": {
   "codemirror_mode": {
    "name": "ipython",
    "version": 2
   },
   "file_extension": ".py",
   "mimetype": "text/x-python",
   "name": "python",
   "nbconvert_exporter": "python",
   "pygments_lexer": "ipython2",
   "version": "2.7.12"
  }
 },
 "nbformat": 4,
 "nbformat_minor": 1
}
