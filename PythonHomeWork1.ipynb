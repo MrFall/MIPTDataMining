{
 "cells": [
  {
   "cell_type": "code",
   "execution_count": null,
   "metadata": {
    "collapsed": true
   },
   "outputs": [],
   "source": [
    "for i in range(1,101):\n",
    "\tif i % 5 == 0 and i % 3 == 0:\n",
    "\t\tprint 'fizzbuzz'\n",
    "\telif i % 5 == 0:\n",
    "\t\tprint 'buzz'\n",
    "\telif i % 3 == 0:\n",
    "\t\tprint 'fizz'\n",
    "\telse:\n",
    "\t\tprint i \n",
    "\t\t"
   ]
  }
 ],
 "metadata": {
  "anaconda-cloud": {},
  "kernelspec": {
   "display_name": "Python [default]",
   "language": "python",
   "name": "python2"
  },
  "language_info": {
   "codemirror_mode": {
    "name": "ipython",
    "version": 2
   },
   "file_extension": ".py",
   "mimetype": "text/x-python",
   "name": "python",
   "nbconvert_exporter": "python",
   "pygments_lexer": "ipython2",
   "version": "2.7.12"
  }
 },
 "nbformat": 4,
 "nbformat_minor": 1
}
